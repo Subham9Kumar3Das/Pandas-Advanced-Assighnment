{
 "cells": [
  {
   "cell_type": "markdown",
   "id": "8746ed16-6158-4e82-b84c-489aa108d245",
   "metadata": {
    "jp-MarkdownHeadingCollapsed": true,
    "tags": []
   },
   "source": [
    " ### Q1. List any five functions of the pandas library with execution."
   ]
  },
  {
   "cell_type": "code",
   "execution_count": 1,
   "id": "3b75e82a-f9ec-46d4-a9db-347801a360a0",
   "metadata": {},
   "outputs": [],
   "source": [
    "import pandas as pd"
   ]
  },
  {
   "cell_type": "code",
   "execution_count": 4,
   "id": "97ff4bf0-3552-4fdb-9f21-70e43e6700e2",
   "metadata": {},
   "outputs": [],
   "source": [
    "df=pd.read_csv('service.csv')#Reads CSV file"
   ]
  },
  {
   "cell_type": "code",
   "execution_count": 6,
   "id": "3c20d0d4-7c2d-41da-9635-4a6c3fb110db",
   "metadata": {},
   "outputs": [],
   "source": [
    "df1=df.head()# Executes first 5 line"
   ]
  },
  {
   "cell_type": "code",
   "execution_count": 7,
   "id": "3e154eee-24ca-4aa1-bac4-f2d22f16ea63",
   "metadata": {},
   "outputs": [],
   "source": [
    "df2=df.tail()# Excutes last 5 line"
   ]
  },
  {
   "cell_type": "code",
   "execution_count": 8,
   "id": "b8cedaff-cec5-450b-afa7-b833bbfc17e4",
   "metadata": {},
   "outputs": [],
   "source": [
    "df3=pd.read_excel('LUSID Excel - Setting up your market data.xlsx')"
   ]
  },
  {
   "cell_type": "code",
   "execution_count": 9,
   "id": "b86a0230-4f9a-4e12-82e6-303a5941b996",
   "metadata": {},
   "outputs": [],
   "source": [
    "data=pd.Series([1,2,5,3,6,8,7,9,10])"
   ]
  },
  {
   "cell_type": "code",
   "execution_count": 10,
   "id": "0346e082-fd9a-447e-b052-747d6cf14022",
   "metadata": {},
   "outputs": [
    {
     "data": {
      "text/plain": [
       "<AxesSubplot: >"
      ]
     },
     "execution_count": 10,
     "metadata": {},
     "output_type": "execute_result"
    },
    {
     "data": {
      "image/png": "[encoded data removed]",
      "text/plain": [
       "<Figure size 640x480 with 1 Axes>"
      ]
     },
     "metadata": {},
     "output_type": "display_data"
    }
   ],
   "source": [
    "data.plot.barh()"
   ]
  },
  {
   "cell_type": "markdown",
   "id": "9adefa61-9d45-45d0-a6df-37f965c260c6",
   "metadata": {
    "jp-MarkdownHeadingCollapsed": true,
    "tags": []
   },
   "source": [
    "### Q2. Given a Pandas DataFrame df with columns 'A', 'B', and 'C', write a Python function to re-index the DataFrame with a new index that starts from 1 and increments by 2 for each row."
   ]
  },
  {
   "cell_type": "code",
   "execution_count": 12,
   "id": "bf7cc762-b777-4f84-8ab2-0492d8ba0d33",
   "metadata": {},
   "outputs": [
    {
     "data": {
      "text/html": [
       "<div>\n",
       "<style scoped>\n",
       "    .dataframe tbody tr th:only-of-type {\n",
       "        vertical-align: middle;\n",
       "    }\n",
       "\n",
       "    .dataframe tbody tr th {\n",
       "        vertical-align: top;\n",
       "    }\n",
       "\n",
       "    .dataframe thead th {\n",
       "        text-align: right;\n",
       "    }\n",
       "</style>\n",
       "<table border=\"1\" class=\"dataframe\">\n",
       "  <thead>\n",
       "    <tr style=\"text-align: right;\">\n",
       "      <th></th>\n",
       "      <th>A</th>\n",
       "      <th>B</th>\n",
       "      <th>C</th>\n",
       "    </tr>\n",
       "  </thead>\n",
       "  <tbody>\n",
       "    <tr>\n",
       "      <th>1</th>\n",
       "      <td>1</td>\n",
       "      <td>3</td>\n",
       "      <td>9</td>\n",
       "    </tr>\n",
       "    <tr>\n",
       "      <th>3</th>\n",
       "      <td>2</td>\n",
       "      <td>5</td>\n",
       "      <td>10</td>\n",
       "    </tr>\n",
       "    <tr>\n",
       "      <th>5</th>\n",
       "      <td>3</td>\n",
       "      <td>6</td>\n",
       "      <td>11</td>\n",
       "    </tr>\n",
       "    <tr>\n",
       "      <th>7</th>\n",
       "      <td>4</td>\n",
       "      <td>7</td>\n",
       "      <td>12</td>\n",
       "    </tr>\n",
       "  </tbody>\n",
       "</table>\n",
       "</div>"
      ],
      "text/plain": [
       "   A  B   C\n",
       "1  1  3   9\n",
       "3  2  5  10\n",
       "5  3  6  11\n",
       "7  4  7  12"
      ]
     },
     "execution_count": 12,
     "metadata": {},
     "output_type": "execute_result"
    }
   ],
   "source": [
    "data={'A':[1,2,3,4],\n",
    "     'B':[3,5,6,7],\n",
    "     'C':[9,10,11,12]}\n",
    "pd.DataFrame(data,index=[1,3,5,7])"
   ]
  },
  {
   "cell_type": "markdown",
   "id": "8ac5e823-577b-4dd5-a563-39c14e872062",
   "metadata": {
    "jp-MarkdownHeadingCollapsed": true,
    "tags": []
   },
   "source": [
    "### Q3. You have a Pandas DataFrame df with a column named 'Values'. Write a Python function that iterates over the DataFrame and calculates the sum of the first three values in the 'Values' column. The function should print the sum to the console."
   ]
  },
  {
   "cell_type": "code",
   "execution_count": 18,
   "id": "e5006879-287d-40a3-8f21-826001a453c3",
   "metadata": {},
   "outputs": [],
   "source": [
    "data1={'Values':[10,20,30,40,50]}\n",
    "df=pd.DataFrame(data1)"
   ]
  },
  {
   "cell_type": "code",
   "execution_count": 19,
   "id": "b8c86c01-9839-4e49-818b-6a71646b4018",
   "metadata": {},
   "outputs": [],
   "source": [
    "def sum_values():\n",
    "    s=0\n",
    "    for i in df['Values'][:3]:\n",
    "        s=s+i\n",
    "    return s\n",
    "        "
   ]
  },
  {
   "cell_type": "code",
   "execution_count": 20,
   "id": "16cf9df3-186b-4d3d-af92-ec0652150c5d",
   "metadata": {},
   "outputs": [
    {
     "data": {
      "text/plain": [
       "60"
      ]
     },
     "execution_count": 20,
     "metadata": {},
     "output_type": "execute_result"
    }
   ],
   "source": [
    "sum_values()"
   ]
  },
  {
   "cell_type": "markdown",
   "id": "00d4e3a0-66d7-45fe-8273-65069252eab8",
   "metadata": {
    "jp-MarkdownHeadingCollapsed": true,
    "tags": []
   },
   "source": [
    "### Q4. Given a Pandas DataFrame df with a column 'Text', write a Python function to create a new column 'Word_Count' that contains the number of words in each row of the 'Text' column."
   ]
  },
  {
   "cell_type": "code",
   "execution_count": 21,
   "id": "e4a69aa0-05ea-42a3-9311-fb4969f2bb66",
   "metadata": {},
   "outputs": [],
   "source": [
    "df1=pd.DataFrame({'Text':['Subh','DG GYJJ','FT RE SGH','dftr bnhuj ']})"
   ]
  },
  {
   "cell_type": "code",
   "execution_count": 22,
   "id": "9a0162ef-a94e-4246-a949-abc650a67fd7",
   "metadata": {},
   "outputs": [],
   "source": [
    "df1['Word_Count']=df1['Text'].apply(lambda x:len(x.split()))"
   ]
  },
  {
   "cell_type": "code",
   "execution_count": 23,
   "id": "3fea49f3-d5cc-43e8-9df4-f58027c19a9b",
   "metadata": {},
   "outputs": [
    {
     "data": {
      "text/html": [
       "<div>\n",
       "<style scoped>\n",
       "    .dataframe tbody tr th:only-of-type {\n",
       "        vertical-align: middle;\n",
       "    }\n",
       "\n",
       "    .dataframe tbody tr th {\n",
       "        vertical-align: top;\n",
       "    }\n",
       "\n",
       "    .dataframe thead th {\n",
       "        text-align: right;\n",
       "    }\n",
       "</style>\n",
       "<table border=\"1\" class=\"dataframe\">\n",
       "  <thead>\n",
       "    <tr style=\"text-align: right;\">\n",
       "      <th></th>\n",
       "      <th>Text</th>\n",
       "      <th>Word_Count</th>\n",
       "    </tr>\n",
       "  </thead>\n",
       "  <tbody>\n",
       "    <tr>\n",
       "      <th>0</th>\n",
       "      <td>Subh</td>\n",
       "      <td>1</td>\n",
       "    </tr>\n",
       "    <tr>\n",
       "      <th>1</th>\n",
       "      <td>DG GYJJ</td>\n",
       "      <td>2</td>\n",
       "    </tr>\n",
       "    <tr>\n",
       "      <th>2</th>\n",
       "      <td>FT RE SGH</td>\n",
       "      <td>3</td>\n",
       "    </tr>\n",
       "    <tr>\n",
       "      <th>3</th>\n",
       "      <td>dftr bnhuj</td>\n",
       "      <td>2</td>\n",
       "    </tr>\n",
       "  </tbody>\n",
       "</table>\n",
       "</div>"
      ],
      "text/plain": [
       "          Text  Word_Count\n",
       "0         Subh           1\n",
       "1      DG GYJJ           2\n",
       "2    FT RE SGH           3\n",
       "3  dftr bnhuj            2"
      ]
     },
     "execution_count": 23,
     "metadata": {},
     "output_type": "execute_result"
    }
   ],
   "source": [
    "df1"
   ]
  },
  {
   "cell_type": "markdown",
   "id": "c500bf05-75f4-4922-9e06-95fb1baada85",
   "metadata": {
    "jp-MarkdownHeadingCollapsed": true,
    "tags": []
   },
   "source": [
    "### Q5. How are DataFrame.size() and DataFrame.shape() different?"
   ]
  },
  {
   "cell_type": "markdown",
   "id": "14cc8391-0932-49c8-bc09-c02eda82afba",
   "metadata": {},
   "source": [
    "DataFrame.size() returns the total number of elements (cells) in the DataFrame, which is the product of the number of rows and columns.\n",
    "\n",
    "DataFrame.shape() returns a tuple representing the dimensions of the DataFrame in the form (rows, columns)."
   ]
  },
  {
   "cell_type": "markdown",
   "id": "d50390be-c7f8-479f-b5ba-834abbe24a85",
   "metadata": {
    "jp-MarkdownHeadingCollapsed": true,
    "tags": []
   },
   "source": [
    "### Q6. Which function of pandas do we use to read an excel file? "
   ]
  },
  {
   "cell_type": "code",
   "execution_count": 30,
   "id": "d797ef29-ca61-4eab-94f7-36e79e6d7102",
   "metadata": {},
   "outputs": [
    {
     "data": {
      "text/html": [
       "<div>\n",
       "<style scoped>\n",
       "    .dataframe tbody tr th:only-of-type {\n",
       "        vertical-align: middle;\n",
       "    }\n",
       "\n",
       "    .dataframe tbody tr th {\n",
       "        vertical-align: top;\n",
       "    }\n",
       "\n",
       "    .dataframe thead th {\n",
       "        text-align: right;\n",
       "    }\n",
       "</style>\n",
       "<table border=\"1\" class=\"dataframe\">\n",
       "  <thead>\n",
       "    <tr style=\"text-align: right;\">\n",
       "      <th></th>\n",
       "      <th>Unnamed: 0</th>\n",
       "      <th>Unnamed: 1</th>\n",
       "      <th>Unnamed: 2</th>\n",
       "      <th>Unnamed: 3</th>\n",
       "      <th>Unnamed: 4</th>\n",
       "      <th>Unnamed: 5</th>\n",
       "      <th>Unnamed: 6</th>\n",
       "      <th>Unnamed: 7</th>\n",
       "      <th>Unnamed: 8</th>\n",
       "      <th>Unnamed: 9</th>\n",
       "    </tr>\n",
       "  </thead>\n",
       "  <tbody>\n",
       "    <tr>\n",
       "      <th>0</th>\n",
       "      <td>NaN</td>\n",
       "      <td>NaN</td>\n",
       "      <td>NaN</td>\n",
       "      <td>NaN</td>\n",
       "      <td>NaN</td>\n",
       "      <td>NaN</td>\n",
       "      <td>NaN</td>\n",
       "      <td>NaN</td>\n",
       "      <td>NaN</td>\n",
       "      <td>NaN</td>\n",
       "    </tr>\n",
       "    <tr>\n",
       "      <th>1</th>\n",
       "      <td>NaN</td>\n",
       "      <td>NaN</td>\n",
       "      <td>NaN</td>\n",
       "      <td>Datetimes in LUSID</td>\n",
       "      <td>NaN</td>\n",
       "      <td>NaN</td>\n",
       "      <td>NaN</td>\n",
       "      <td>NaN</td>\n",
       "      <td>NaN</td>\n",
       "      <td>NaN</td>\n",
       "    </tr>\n",
       "    <tr>\n",
       "      <th>2</th>\n",
       "      <td>NaN</td>\n",
       "      <td>NaN</td>\n",
       "      <td>NaN</td>\n",
       "      <td>NaN</td>\n",
       "      <td>NaN</td>\n",
       "      <td>NaN</td>\n",
       "      <td>NaN</td>\n",
       "      <td>NaN</td>\n",
       "      <td>NaN</td>\n",
       "      <td>NaN</td>\n",
       "    </tr>\n",
       "    <tr>\n",
       "      <th>3</th>\n",
       "      <td>NaN</td>\n",
       "      <td>NaN</td>\n",
       "      <td>NaN</td>\n",
       "      <td>This sheet allows you to format datetimes for...</td>\n",
       "      <td>NaN</td>\n",
       "      <td>NaN</td>\n",
       "      <td>NaN</td>\n",
       "      <td>NaN</td>\n",
       "      <td>NaN</td>\n",
       "      <td>NaN</td>\n",
       "    </tr>\n",
       "    <tr>\n",
       "      <th>4</th>\n",
       "      <td>NaN</td>\n",
       "      <td>NaN</td>\n",
       "      <td>NaN</td>\n",
       "      <td>If you have any questions please visit our:</td>\n",
       "      <td>NaN</td>\n",
       "      <td>NaN</td>\n",
       "      <td>NaN</td>\n",
       "      <td>NaN</td>\n",
       "      <td>NaN</td>\n",
       "      <td>NaN</td>\n",
       "    </tr>\n",
       "    <tr>\n",
       "      <th>5</th>\n",
       "      <td>NaN</td>\n",
       "      <td>NaN</td>\n",
       "      <td>NaN</td>\n",
       "      <td>NaN</td>\n",
       "      <td>Getting Started tutorials</td>\n",
       "      <td>NaN</td>\n",
       "      <td>NaN</td>\n",
       "      <td>NaN</td>\n",
       "      <td>NaN</td>\n",
       "      <td>NaN</td>\n",
       "    </tr>\n",
       "    <tr>\n",
       "      <th>6</th>\n",
       "      <td>NaN</td>\n",
       "      <td>NaN</td>\n",
       "      <td>NaN</td>\n",
       "      <td>NaN</td>\n",
       "      <td>Knowledge Base articles</td>\n",
       "      <td>NaN</td>\n",
       "      <td>NaN</td>\n",
       "      <td>NaN</td>\n",
       "      <td>NaN</td>\n",
       "      <td>NaN</td>\n",
       "    </tr>\n",
       "    <tr>\n",
       "      <th>7</th>\n",
       "      <td>NaN</td>\n",
       "      <td>NaN</td>\n",
       "      <td>NaN</td>\n",
       "      <td>NaN</td>\n",
       "      <td>or Contact us</td>\n",
       "      <td>NaN</td>\n",
       "      <td>NaN</td>\n",
       "      <td>NaN</td>\n",
       "      <td>NaN</td>\n",
       "      <td>NaN</td>\n",
       "    </tr>\n",
       "    <tr>\n",
       "      <th>8</th>\n",
       "      <td>NaN</td>\n",
       "      <td>NaN</td>\n",
       "      <td>NaN</td>\n",
       "      <td>NaN</td>\n",
       "      <td>NaN</td>\n",
       "      <td>NaN</td>\n",
       "      <td>NaN</td>\n",
       "      <td>NaN</td>\n",
       "      <td>NaN</td>\n",
       "      <td>NaN</td>\n",
       "    </tr>\n",
       "    <tr>\n",
       "      <th>9</th>\n",
       "      <td>NaN</td>\n",
       "      <td>NaN</td>\n",
       "      <td>NaN</td>\n",
       "      <td>NaN</td>\n",
       "      <td>NaN</td>\n",
       "      <td>NaN</td>\n",
       "      <td>NaN</td>\n",
       "      <td>NaN</td>\n",
       "      <td>NaN</td>\n",
       "      <td>NaN</td>\n",
       "    </tr>\n",
       "    <tr>\n",
       "      <th>10</th>\n",
       "      <td>NaN</td>\n",
       "      <td>NaN</td>\n",
       "      <td>NaN</td>\n",
       "      <td>NaN</td>\n",
       "      <td>NaN</td>\n",
       "      <td>NaN</td>\n",
       "      <td>NaN</td>\n",
       "      <td>NaN</td>\n",
       "      <td>NaN</td>\n",
       "      <td>NaN</td>\n",
       "    </tr>\n",
       "    <tr>\n",
       "      <th>11</th>\n",
       "      <td>NaN</td>\n",
       "      <td>NaN</td>\n",
       "      <td>NaN</td>\n",
       "      <td>NaN</td>\n",
       "      <td>LUSID accepts datetimes in any recognised Exce...</td>\n",
       "      <td>NaN</td>\n",
       "      <td>NaN</td>\n",
       "      <td>LUSID also accepts UTC, UTS offsets and cutlabels</td>\n",
       "      <td>NaN</td>\n",
       "      <td>NaN</td>\n",
       "    </tr>\n",
       "    <tr>\n",
       "      <th>12</th>\n",
       "      <td>NaN</td>\n",
       "      <td>NaN</td>\n",
       "      <td>NaN</td>\n",
       "      <td>NaN</td>\n",
       "      <td>NaN</td>\n",
       "      <td>NaN</td>\n",
       "      <td>NaN</td>\n",
       "      <td>NaN</td>\n",
       "      <td>NaN</td>\n",
       "      <td>NaN</td>\n",
       "    </tr>\n",
       "    <tr>\n",
       "      <th>13</th>\n",
       "      <td>NaN</td>\n",
       "      <td>NaN</td>\n",
       "      <td>NaN</td>\n",
       "      <td>NaN</td>\n",
       "      <td>Excel formats to show datetime</td>\n",
       "      <td>NaN</td>\n",
       "      <td>NaN</td>\n",
       "      <td>Additional formats</td>\n",
       "      <td>NaN</td>\n",
       "      <td>NaN</td>\n",
       "    </tr>\n",
       "    <tr>\n",
       "      <th>14</th>\n",
       "      <td>NaN</td>\n",
       "      <td>NaN</td>\n",
       "      <td>NaN</td>\n",
       "      <td>NaN</td>\n",
       "      <td>NaN</td>\n",
       "      <td>NaN</td>\n",
       "      <td>NaN</td>\n",
       "      <td>NaN</td>\n",
       "      <td>NaN</td>\n",
       "      <td>NaN</td>\n",
       "    </tr>\n",
       "    <tr>\n",
       "      <th>15</th>\n",
       "      <td>NaN</td>\n",
       "      <td>NaN</td>\n",
       "      <td>NaN</td>\n",
       "      <td>NaN</td>\n",
       "      <td>Enter the date to convert</td>\n",
       "      <td>2019-04-10 00:00:00</td>\n",
       "      <td>NaN</td>\n",
       "      <td>Standard UTC timestamp:</td>\n",
       "      <td>\"YYYY-MM-DDTHH:MM:SS.00Z\"</td>\n",
       "      <td>Where Z indicates Zulu time (UTC+0), and is eq...</td>\n",
       "    </tr>\n",
       "    <tr>\n",
       "      <th>16</th>\n",
       "      <td>NaN</td>\n",
       "      <td>NaN</td>\n",
       "      <td>NaN</td>\n",
       "      <td>NaN</td>\n",
       "      <td>NaN</td>\n",
       "      <td>NaN</td>\n",
       "      <td>NaN</td>\n",
       "      <td>NaN</td>\n",
       "      <td>NaN</td>\n",
       "      <td>NaN</td>\n",
       "    </tr>\n",
       "    <tr>\n",
       "      <th>17</th>\n",
       "      <td>NaN</td>\n",
       "      <td>NaN</td>\n",
       "      <td>NaN</td>\n",
       "      <td>NaN</td>\n",
       "      <td>This date has no time component</td>\n",
       "      <td>2019-04-10 00:00:00</td>\n",
       "      <td>NaN</td>\n",
       "      <td>Convert date into a string</td>\n",
       "      <td>2019-04-10T 13:30:45.55Z</td>\n",
       "      <td>NaN</td>\n",
       "    </tr>\n",
       "    <tr>\n",
       "      <th>18</th>\n",
       "      <td>NaN</td>\n",
       "      <td>NaN</td>\n",
       "      <td>NaN</td>\n",
       "      <td>NaN</td>\n",
       "      <td>NaN</td>\n",
       "      <td>NaN</td>\n",
       "      <td>NaN</td>\n",
       "      <td>NaN</td>\n",
       "      <td>NaN</td>\n",
       "      <td>NaN</td>\n",
       "    </tr>\n",
       "    <tr>\n",
       "      <th>19</th>\n",
       "      <td>NaN</td>\n",
       "      <td>NaN</td>\n",
       "      <td>NaN</td>\n",
       "      <td>NaN</td>\n",
       "      <td>Specify time component</td>\n",
       "      <td>13:30:45.550000</td>\n",
       "      <td>NaN</td>\n",
       "      <td>UTC offset (not recognised as an excel date)</td>\n",
       "      <td>2019-04-10T13:30:45+04:00</td>\n",
       "      <td>NaN</td>\n",
       "    </tr>\n",
       "    <tr>\n",
       "      <th>20</th>\n",
       "      <td>NaN</td>\n",
       "      <td>NaN</td>\n",
       "      <td>NaN</td>\n",
       "      <td>NaN</td>\n",
       "      <td>NaN</td>\n",
       "      <td>NaN</td>\n",
       "      <td>NaN</td>\n",
       "      <td>NaN</td>\n",
       "      <td>NaN</td>\n",
       "      <td>NaN</td>\n",
       "    </tr>\n",
       "    <tr>\n",
       "      <th>21</th>\n",
       "      <td>NaN</td>\n",
       "      <td>NaN</td>\n",
       "      <td>NaN</td>\n",
       "      <td>NaN</td>\n",
       "      <td>Add to your date and display the complete date...</td>\n",
       "      <td>2019-04-10 13:30:45.550000</td>\n",
       "      <td>NaN</td>\n",
       "      <td>Cutlabel</td>\n",
       "      <td>2019-04-10NSingaporeClose</td>\n",
       "      <td>NaN</td>\n",
       "    </tr>\n",
       "    <tr>\n",
       "      <th>22</th>\n",
       "      <td>NaN</td>\n",
       "      <td>NaN</td>\n",
       "      <td>NaN</td>\n",
       "      <td>NaN</td>\n",
       "      <td>NaN</td>\n",
       "      <td>NaN</td>\n",
       "      <td>NaN</td>\n",
       "      <td>NaN</td>\n",
       "      <td>NaN</td>\n",
       "      <td>NaN</td>\n",
       "    </tr>\n",
       "    <tr>\n",
       "      <th>23</th>\n",
       "      <td>NaN</td>\n",
       "      <td>NaN</td>\n",
       "      <td>NaN</td>\n",
       "      <td>NaN</td>\n",
       "      <td>Although the date can still appears without time</td>\n",
       "      <td>2019-04-10 13:30:45.550000</td>\n",
       "      <td>NaN</td>\n",
       "      <td>NaN</td>\n",
       "      <td>NaN</td>\n",
       "      <td>NaN</td>\n",
       "    </tr>\n",
       "    <tr>\n",
       "      <th>24</th>\n",
       "      <td>NaN</td>\n",
       "      <td>NaN</td>\n",
       "      <td>NaN</td>\n",
       "      <td>NaN</td>\n",
       "      <td>NaN</td>\n",
       "      <td>NaN</td>\n",
       "      <td>NaN</td>\n",
       "      <td>NaN</td>\n",
       "      <td>NaN</td>\n",
       "      <td>NaN</td>\n",
       "    </tr>\n",
       "    <tr>\n",
       "      <th>25</th>\n",
       "      <td>NaN</td>\n",
       "      <td>NaN</td>\n",
       "      <td>NaN</td>\n",
       "      <td>NaN</td>\n",
       "      <td>Add an hour to your datetime</td>\n",
       "      <td>2019-04-10 14:30:45.550000</td>\n",
       "      <td>NaN</td>\n",
       "      <td>NaN</td>\n",
       "      <td>NaN</td>\n",
       "      <td>NaN</td>\n",
       "    </tr>\n",
       "    <tr>\n",
       "      <th>26</th>\n",
       "      <td>NaN</td>\n",
       "      <td>NaN</td>\n",
       "      <td>NaN</td>\n",
       "      <td>NaN</td>\n",
       "      <td>NaN</td>\n",
       "      <td>NaN</td>\n",
       "      <td>NaN</td>\n",
       "      <td>NaN</td>\n",
       "      <td>NaN</td>\n",
       "      <td>NaN</td>\n",
       "    </tr>\n",
       "    <tr>\n",
       "      <th>27</th>\n",
       "      <td>NaN</td>\n",
       "      <td>NaN</td>\n",
       "      <td>NaN</td>\n",
       "      <td>NaN</td>\n",
       "      <td>Subtract a minute from your datetime</td>\n",
       "      <td>2019-04-10 14:29:45.550000</td>\n",
       "      <td>NaN</td>\n",
       "      <td>NaN</td>\n",
       "      <td>NaN</td>\n",
       "      <td>NaN</td>\n",
       "    </tr>\n",
       "  </tbody>\n",
       "</table>\n",
       "</div>"
      ],
      "text/plain": [
       "    Unnamed: 0  Unnamed: 1  Unnamed: 2  \\\n",
       "0          NaN         NaN         NaN   \n",
       "1          NaN         NaN         NaN   \n",
       "2          NaN         NaN         NaN   \n",
       "3          NaN         NaN         NaN   \n",
       "4          NaN         NaN         NaN   \n",
       "5          NaN         NaN         NaN   \n",
       "6          NaN         NaN         NaN   \n",
       "7          NaN         NaN         NaN   \n",
       "8          NaN         NaN         NaN   \n",
       "9          NaN         NaN         NaN   \n",
       "10         NaN         NaN         NaN   \n",
       "11         NaN         NaN         NaN   \n",
       "12         NaN         NaN         NaN   \n",
       "13         NaN         NaN         NaN   \n",
       "14         NaN         NaN         NaN   \n",
       "15         NaN         NaN         NaN   \n",
       "16         NaN         NaN         NaN   \n",
       "17         NaN         NaN         NaN   \n",
       "18         NaN         NaN         NaN   \n",
       "19         NaN         NaN         NaN   \n",
       "20         NaN         NaN         NaN   \n",
       "21         NaN         NaN         NaN   \n",
       "22         NaN         NaN         NaN   \n",
       "23         NaN         NaN         NaN   \n",
       "24         NaN         NaN         NaN   \n",
       "25         NaN         NaN         NaN   \n",
       "26         NaN         NaN         NaN   \n",
       "27         NaN         NaN         NaN   \n",
       "\n",
       "                                           Unnamed: 3  \\\n",
       "0                                                 NaN   \n",
       "1                                  Datetimes in LUSID   \n",
       "2                                                 NaN   \n",
       "3    This sheet allows you to format datetimes for...   \n",
       "4         If you have any questions please visit our:   \n",
       "5                                                 NaN   \n",
       "6                                                 NaN   \n",
       "7                                                 NaN   \n",
       "8                                                 NaN   \n",
       "9                                                 NaN   \n",
       "10                                                NaN   \n",
       "11                                                NaN   \n",
       "12                                                NaN   \n",
       "13                                                NaN   \n",
       "14                                                NaN   \n",
       "15                                                NaN   \n",
       "16                                                NaN   \n",
       "17                                                NaN   \n",
       "18                                                NaN   \n",
       "19                                                NaN   \n",
       "20                                                NaN   \n",
       "21                                                NaN   \n",
       "22                                                NaN   \n",
       "23                                                NaN   \n",
       "24                                                NaN   \n",
       "25                                                NaN   \n",
       "26                                                NaN   \n",
       "27                                                NaN   \n",
       "\n",
       "                                           Unnamed: 4  \\\n",
       "0                                                 NaN   \n",
       "1                                                 NaN   \n",
       "2                                                 NaN   \n",
       "3                                                 NaN   \n",
       "4                                                 NaN   \n",
       "5                           Getting Started tutorials   \n",
       "6                             Knowledge Base articles   \n",
       "7                                       or Contact us   \n",
       "8                                                 NaN   \n",
       "9                                                 NaN   \n",
       "10                                                NaN   \n",
       "11  LUSID accepts datetimes in any recognised Exce...   \n",
       "12                                                NaN   \n",
       "13                     Excel formats to show datetime   \n",
       "14                                                NaN   \n",
       "15                          Enter the date to convert   \n",
       "16                                                NaN   \n",
       "17                    This date has no time component   \n",
       "18                                                NaN   \n",
       "19                             Specify time component   \n",
       "20                                                NaN   \n",
       "21  Add to your date and display the complete date...   \n",
       "22                                                NaN   \n",
       "23   Although the date can still appears without time   \n",
       "24                                                NaN   \n",
       "25                       Add an hour to your datetime   \n",
       "26                                                NaN   \n",
       "27               Subtract a minute from your datetime   \n",
       "\n",
       "                    Unnamed: 5  Unnamed: 6  \\\n",
       "0                          NaN         NaN   \n",
       "1                          NaN         NaN   \n",
       "2                          NaN         NaN   \n",
       "3                          NaN         NaN   \n",
       "4                          NaN         NaN   \n",
       "5                          NaN         NaN   \n",
       "6                          NaN         NaN   \n",
       "7                          NaN         NaN   \n",
       "8                          NaN         NaN   \n",
       "9                          NaN         NaN   \n",
       "10                         NaN         NaN   \n",
       "11                         NaN         NaN   \n",
       "12                         NaN         NaN   \n",
       "13                         NaN         NaN   \n",
       "14                         NaN         NaN   \n",
       "15         2019-04-10 00:00:00         NaN   \n",
       "16                         NaN         NaN   \n",
       "17         2019-04-10 00:00:00         NaN   \n",
       "18                         NaN         NaN   \n",
       "19             13:30:45.550000         NaN   \n",
       "20                         NaN         NaN   \n",
       "21  2019-04-10 13:30:45.550000         NaN   \n",
       "22                         NaN         NaN   \n",
       "23  2019-04-10 13:30:45.550000         NaN   \n",
       "24                         NaN         NaN   \n",
       "25  2019-04-10 14:30:45.550000         NaN   \n",
       "26                         NaN         NaN   \n",
       "27  2019-04-10 14:29:45.550000         NaN   \n",
       "\n",
       "                                           Unnamed: 7  \\\n",
       "0                                                 NaN   \n",
       "1                                                 NaN   \n",
       "2                                                 NaN   \n",
       "3                                                 NaN   \n",
       "4                                                 NaN   \n",
       "5                                                 NaN   \n",
       "6                                                 NaN   \n",
       "7                                                 NaN   \n",
       "8                                                 NaN   \n",
       "9                                                 NaN   \n",
       "10                                                NaN   \n",
       "11  LUSID also accepts UTC, UTS offsets and cutlabels   \n",
       "12                                                NaN   \n",
       "13                                 Additional formats   \n",
       "14                                                NaN   \n",
       "15                            Standard UTC timestamp:   \n",
       "16                                                NaN   \n",
       "17                         Convert date into a string   \n",
       "18                                                NaN   \n",
       "19       UTC offset (not recognised as an excel date)   \n",
       "20                                                NaN   \n",
       "21                                           Cutlabel   \n",
       "22                                                NaN   \n",
       "23                                                NaN   \n",
       "24                                                NaN   \n",
       "25                                                NaN   \n",
       "26                                                NaN   \n",
       "27                                                NaN   \n",
       "\n",
       "                   Unnamed: 8  \\\n",
       "0                         NaN   \n",
       "1                         NaN   \n",
       "2                         NaN   \n",
       "3                         NaN   \n",
       "4                         NaN   \n",
       "5                         NaN   \n",
       "6                         NaN   \n",
       "7                         NaN   \n",
       "8                         NaN   \n",
       "9                         NaN   \n",
       "10                        NaN   \n",
       "11                        NaN   \n",
       "12                        NaN   \n",
       "13                        NaN   \n",
       "14                        NaN   \n",
       "15  \"YYYY-MM-DDTHH:MM:SS.00Z\"   \n",
       "16                        NaN   \n",
       "17   2019-04-10T 13:30:45.55Z   \n",
       "18                        NaN   \n",
       "19  2019-04-10T13:30:45+04:00   \n",
       "20                        NaN   \n",
       "21  2019-04-10NSingaporeClose   \n",
       "22                        NaN   \n",
       "23                        NaN   \n",
       "24                        NaN   \n",
       "25                        NaN   \n",
       "26                        NaN   \n",
       "27                        NaN   \n",
       "\n",
       "                                           Unnamed: 9  \n",
       "0                                                 NaN  \n",
       "1                                                 NaN  \n",
       "2                                                 NaN  \n",
       "3                                                 NaN  \n",
       "4                                                 NaN  \n",
       "5                                                 NaN  \n",
       "6                                                 NaN  \n",
       "7                                                 NaN  \n",
       "8                                                 NaN  \n",
       "9                                                 NaN  \n",
       "10                                                NaN  \n",
       "11                                                NaN  \n",
       "12                                                NaN  \n",
       "13                                                NaN  \n",
       "14                                                NaN  \n",
       "15  Where Z indicates Zulu time (UTC+0), and is eq...  \n",
       "16                                                NaN  \n",
       "17                                                NaN  \n",
       "18                                                NaN  \n",
       "19                                                NaN  \n",
       "20                                                NaN  \n",
       "21                                                NaN  \n",
       "22                                                NaN  \n",
       "23                                                NaN  \n",
       "24                                                NaN  \n",
       "25                                                NaN  \n",
       "26                                                NaN  \n",
       "27                                                NaN  "
      ]
     },
     "execution_count": 30,
     "metadata": {},
     "output_type": "execute_result"
    }
   ],
   "source": [
    "pd.read_excel('LUSID Excel - Setting up your market data.xlsx')"
   ]
  },
  {
   "cell_type": "markdown",
   "id": "e955bff5-2842-401f-893e-346fb752a1c8",
   "metadata": {
    "jp-MarkdownHeadingCollapsed": true,
    "tags": []
   },
   "source": [
    "### Q7. You have a Pandas DataFrame df that contains a column named 'Email' that contains email addresses in the format 'username@domain.com'. Write a Python function that creates a new column 'Username' in df that contains only the username part of each email address."
   ]
  },
  {
   "cell_type": "code",
   "execution_count": 31,
   "id": "86d44267-cb08-47ee-b08f-f2aae88a13ca",
   "metadata": {},
   "outputs": [],
   "source": [
    "df=pd.DataFrame({'Email':['pranatisamresh@gmail.com','subhamkumard21@gmail.com']})"
   ]
  },
  {
   "cell_type": "code",
   "execution_count": 32,
   "id": "a25bcb8c-55e6-4e64-bd88-42c775d18f40",
   "metadata": {},
   "outputs": [],
   "source": [
    "df['Username']=df['Email'].apply(lambda x:x[:x.index('@')])"
   ]
  },
  {
   "cell_type": "code",
   "execution_count": 33,
   "id": "5088744e-bc05-4d38-8437-2d22dd6634ab",
   "metadata": {},
   "outputs": [
    {
     "data": {
      "text/html": [
       "<div>\n",
       "<style scoped>\n",
       "    .dataframe tbody tr th:only-of-type {\n",
       "        vertical-align: middle;\n",
       "    }\n",
       "\n",
       "    .dataframe tbody tr th {\n",
       "        vertical-align: top;\n",
       "    }\n",
       "\n",
       "    .dataframe thead th {\n",
       "        text-align: right;\n",
       "    }\n",
       "</style>\n",
       "<table border=\"1\" class=\"dataframe\">\n",
       "  <thead>\n",
       "    <tr style=\"text-align: right;\">\n",
       "      <th></th>\n",
       "      <th>Email</th>\n",
       "      <th>Username</th>\n",
       "    </tr>\n",
       "  </thead>\n",
       "  <tbody>\n",
       "    <tr>\n",
       "      <th>0</th>\n",
       "      <td>pranatisamresh@gmail.com</td>\n",
       "      <td>pranatisamresh</td>\n",
       "    </tr>\n",
       "    <tr>\n",
       "      <th>1</th>\n",
       "      <td>subhamkumard21@gmail.com</td>\n",
       "      <td>subhamkumard21</td>\n",
       "    </tr>\n",
       "  </tbody>\n",
       "</table>\n",
       "</div>"
      ],
      "text/plain": [
       "                      Email        Username\n",
       "0  pranatisamresh@gmail.com  pranatisamresh\n",
       "1  subhamkumard21@gmail.com  subhamkumard21"
      ]
     },
     "execution_count": 33,
     "metadata": {},
     "output_type": "execute_result"
    }
   ],
   "source": [
    "df"
   ]
  },
  {
   "cell_type": "markdown",
   "id": "f55497ab-1674-4c99-8f5b-cf29c4016109",
   "metadata": {
    "jp-MarkdownHeadingCollapsed": true,
    "tags": []
   },
   "source": [
    "### Q8. You have a Pandas DataFrame df with columns 'A', 'B', and 'C'. Write a Python function that select all rows where the value in column 'A' is greater than 5 and the value in column 'B' is less than 10. The function should return a new DataFrame that contains only the selected rows."
   ]
  },
  {
   "cell_type": "code",
   "execution_count": 51,
   "id": "d26c6eb4-ea44-44c2-a41d-b09c608ed6f9",
   "metadata": {},
   "outputs": [],
   "source": [
    "df3=pd.DataFrame({'A':[3,8,6,2,9],\n",
    "                 'B':[5,2,9,3,1],\n",
    "                 'C':[1,7,4,5,2]})"
   ]
  },
  {
   "cell_type": "code",
   "execution_count": 52,
   "id": "05630705-dc45-4271-a23b-f8300e7ef38d",
   "metadata": {},
   "outputs": [],
   "source": [
    "def selected():\n",
    "    return df3[(df3['A']>5) & (df3['B']<10)]"
   ]
  },
  {
   "cell_type": "code",
   "execution_count": 53,
   "id": "e1ff25ee-7c6a-4a3d-83c6-1f74215b75b2",
   "metadata": {},
   "outputs": [
    {
     "data": {
      "text/html": [
       "<div>\n",
       "<style scoped>\n",
       "    .dataframe tbody tr th:only-of-type {\n",
       "        vertical-align: middle;\n",
       "    }\n",
       "\n",
       "    .dataframe tbody tr th {\n",
       "        vertical-align: top;\n",
       "    }\n",
       "\n",
       "    .dataframe thead th {\n",
       "        text-align: right;\n",
       "    }\n",
       "</style>\n",
       "<table border=\"1\" class=\"dataframe\">\n",
       "  <thead>\n",
       "    <tr style=\"text-align: right;\">\n",
       "      <th></th>\n",
       "      <th>A</th>\n",
       "      <th>B</th>\n",
       "      <th>C</th>\n",
       "    </tr>\n",
       "  </thead>\n",
       "  <tbody>\n",
       "    <tr>\n",
       "      <th>1</th>\n",
       "      <td>8</td>\n",
       "      <td>2</td>\n",
       "      <td>7</td>\n",
       "    </tr>\n",
       "    <tr>\n",
       "      <th>2</th>\n",
       "      <td>6</td>\n",
       "      <td>9</td>\n",
       "      <td>4</td>\n",
       "    </tr>\n",
       "    <tr>\n",
       "      <th>4</th>\n",
       "      <td>9</td>\n",
       "      <td>1</td>\n",
       "      <td>2</td>\n",
       "    </tr>\n",
       "  </tbody>\n",
       "</table>\n",
       "</div>"
      ],
      "text/plain": [
       "   A  B  C\n",
       "1  8  2  7\n",
       "2  6  9  4\n",
       "4  9  1  2"
      ]
     },
     "execution_count": 53,
     "metadata": {},
     "output_type": "execute_result"
    }
   ],
   "source": [
    "selected()"
   ]
  },
  {
   "cell_type": "markdown",
   "id": "88ae3f1a-85a8-4c1c-a095-ef52bd596d02",
   "metadata": {
    "jp-MarkdownHeadingCollapsed": true,
    "tags": []
   },
   "source": [
    "### Q9. Given a Pandas DataFrame df with a column 'Values', write a Python function to calculate the mean, median, and standard deviation of the values in the 'Values' column."
   ]
  },
  {
   "cell_type": "code",
   "execution_count": 55,
   "id": "81eba99a-b5af-400e-a779-b0a380eb1bcb",
   "metadata": {},
   "outputs": [],
   "source": [
    "data1={'Values':[10,20,30,40,50]}\n",
    "df=pd.DataFrame(data1)"
   ]
  },
  {
   "cell_type": "code",
   "execution_count": 56,
   "id": "839a1b4f-45b7-4514-a9d1-06d2a907c784",
   "metadata": {},
   "outputs": [
    {
     "data": {
      "text/plain": [
       "30.0"
      ]
     },
     "execution_count": 56,
     "metadata": {},
     "output_type": "execute_result"
    }
   ],
   "source": [
    "df['Values'].mean()"
   ]
  },
  {
   "cell_type": "code",
   "execution_count": 58,
   "id": "1c0cf6bd-3aa6-4b7f-bea4-75a3cd2e538a",
   "metadata": {},
   "outputs": [
    {
     "data": {
      "text/plain": [
       "30.0"
      ]
     },
     "execution_count": 58,
     "metadata": {},
     "output_type": "execute_result"
    }
   ],
   "source": [
    "df['Values'].median()"
   ]
  },
  {
   "cell_type": "code",
   "execution_count": 59,
   "id": "282e4571-3ced-4bae-9ab2-1a8f154998d7",
   "metadata": {},
   "outputs": [
    {
     "data": {
      "text/plain": [
       "15.811388300841896"
      ]
     },
     "execution_count": 59,
     "metadata": {},
     "output_type": "execute_result"
    }
   ],
   "source": [
    "df['Values'].std()"
   ]
  },
  {
   "cell_type": "markdown",
   "id": "dbd4b2f7-e2fe-47ac-9005-57392012c2fc",
   "metadata": {
    "jp-MarkdownHeadingCollapsed": true,
    "tags": []
   },
   "source": [
    "### Q10. Given a Pandas DataFrame df with a column 'Sales' and a column 'Date', write a Python function to create a new column 'MovingAverage' that contains the moving average of the sales for the past 7 days for each row in the DataFrame. The moving average should be calculated using a window of size 7 and should include the current day."
   ]
  },
  {
   "cell_type": "code",
   "execution_count": 67,
   "id": "56780122-3ee1-4855-8e5d-187be279562e",
   "metadata": {},
   "outputs": [],
   "source": [
    "data={'date':pd.date_range(start='2023-07-27',end='2023-08-2'),\n",
    "     'Sales':[100,200, 150, 250, 300, 175, 225]}\n",
    "df4=pd.DataFrame(data)"
   ]
  },
  {
   "cell_type": "code",
   "execution_count": 79,
   "id": "74b0beb4-b2fd-469d-8df8-4218970455ed",
   "metadata": {},
   "outputs": [],
   "source": [
    "df4['MovingAverage']=df4['Sales'].rolling(window=7,min_periods=1).mean()"
   ]
  },
  {
   "cell_type": "code",
   "execution_count": 80,
   "id": "adb47412-8e9e-453c-b056-745175a682b4",
   "metadata": {},
   "outputs": [
    {
     "data": {
      "text/html": [
       "<div>\n",
       "<style scoped>\n",
       "    .dataframe tbody tr th:only-of-type {\n",
       "        vertical-align: middle;\n",
       "    }\n",
       "\n",
       "    .dataframe tbody tr th {\n",
       "        vertical-align: top;\n",
       "    }\n",
       "\n",
       "    .dataframe thead th {\n",
       "        text-align: right;\n",
       "    }\n",
       "</style>\n",
       "<table border=\"1\" class=\"dataframe\">\n",
       "  <thead>\n",
       "    <tr style=\"text-align: right;\">\n",
       "      <th></th>\n",
       "      <th>date</th>\n",
       "      <th>Sales</th>\n",
       "      <th>MovingAverage</th>\n",
       "    </tr>\n",
       "  </thead>\n",
       "  <tbody>\n",
       "    <tr>\n",
       "      <th>0</th>\n",
       "      <td>2023-07-27</td>\n",
       "      <td>100</td>\n",
       "      <td>100.000000</td>\n",
       "    </tr>\n",
       "    <tr>\n",
       "      <th>1</th>\n",
       "      <td>2023-07-28</td>\n",
       "      <td>200</td>\n",
       "      <td>150.000000</td>\n",
       "    </tr>\n",
       "    <tr>\n",
       "      <th>2</th>\n",
       "      <td>2023-07-29</td>\n",
       "      <td>150</td>\n",
       "      <td>150.000000</td>\n",
       "    </tr>\n",
       "    <tr>\n",
       "      <th>3</th>\n",
       "      <td>2023-07-30</td>\n",
       "      <td>250</td>\n",
       "      <td>175.000000</td>\n",
       "    </tr>\n",
       "    <tr>\n",
       "      <th>4</th>\n",
       "      <td>2023-07-31</td>\n",
       "      <td>300</td>\n",
       "      <td>200.000000</td>\n",
       "    </tr>\n",
       "    <tr>\n",
       "      <th>5</th>\n",
       "      <td>2023-08-01</td>\n",
       "      <td>175</td>\n",
       "      <td>195.833333</td>\n",
       "    </tr>\n",
       "    <tr>\n",
       "      <th>6</th>\n",
       "      <td>2023-08-02</td>\n",
       "      <td>225</td>\n",
       "      <td>200.000000</td>\n",
       "    </tr>\n",
       "  </tbody>\n",
       "</table>\n",
       "</div>"
      ],
      "text/plain": [
       "        date  Sales  MovingAverage\n",
       "0 2023-07-27    100     100.000000\n",
       "1 2023-07-28    200     150.000000\n",
       "2 2023-07-29    150     150.000000\n",
       "3 2023-07-30    250     175.000000\n",
       "4 2023-07-31    300     200.000000\n",
       "5 2023-08-01    175     195.833333\n",
       "6 2023-08-02    225     200.000000"
      ]
     },
     "execution_count": 80,
     "metadata": {},
     "output_type": "execute_result"
    }
   ],
   "source": [
    "df4"
   ]
  },
  {
   "cell_type": "markdown",
   "id": "7b8d3cac-fccd-469d-aec8-e2cb5f03f584",
   "metadata": {
    "jp-MarkdownHeadingCollapsed": true,
    "tags": []
   },
   "source": [
    "### Q11. You have a Pandas DataFrame df with a column 'Date'. Write a Python function that creates a new column 'Weekday' in the DataFrame. The 'Weekday' column should contain the weekday name (e.g. Monday, Tuesday) corresponding to each date in the 'Date' column."
   ]
  },
  {
   "cell_type": "code",
   "execution_count": 81,
   "id": "091ad105-1b54-417a-be8c-f0095f70dea4",
   "metadata": {},
   "outputs": [],
   "source": [
    "df5=pd.DataFrame({'Date':pd.date_range(start='2023-01-01',end='2023-01-05')})"
   ]
  },
  {
   "cell_type": "code",
   "execution_count": 94,
   "id": "c56624e9-5de4-4608-839b-9a86531301e6",
   "metadata": {},
   "outputs": [],
   "source": [
    "df5['Weekday']=df5['Date'].dt.day_name()#Returns Day name in respective to is date."
   ]
  },
  {
   "cell_type": "code",
   "execution_count": 95,
   "id": "c68a91bb-2e7f-4d90-bdd2-0a50b2fe1550",
   "metadata": {},
   "outputs": [
    {
     "data": {
      "text/html": [
       "<div>\n",
       "<style scoped>\n",
       "    .dataframe tbody tr th:only-of-type {\n",
       "        vertical-align: middle;\n",
       "    }\n",
       "\n",
       "    .dataframe tbody tr th {\n",
       "        vertical-align: top;\n",
       "    }\n",
       "\n",
       "    .dataframe thead th {\n",
       "        text-align: right;\n",
       "    }\n",
       "</style>\n",
       "<table border=\"1\" class=\"dataframe\">\n",
       "  <thead>\n",
       "    <tr style=\"text-align: right;\">\n",
       "      <th></th>\n",
       "      <th>Date</th>\n",
       "      <th>Weekday</th>\n",
       "    </tr>\n",
       "  </thead>\n",
       "  <tbody>\n",
       "    <tr>\n",
       "      <th>0</th>\n",
       "      <td>2023-01-01</td>\n",
       "      <td>Sunday</td>\n",
       "    </tr>\n",
       "    <tr>\n",
       "      <th>1</th>\n",
       "      <td>2023-01-02</td>\n",
       "      <td>Monday</td>\n",
       "    </tr>\n",
       "    <tr>\n",
       "      <th>2</th>\n",
       "      <td>2023-01-03</td>\n",
       "      <td>Tuesday</td>\n",
       "    </tr>\n",
       "    <tr>\n",
       "      <th>3</th>\n",
       "      <td>2023-01-04</td>\n",
       "      <td>Wednesday</td>\n",
       "    </tr>\n",
       "    <tr>\n",
       "      <th>4</th>\n",
       "      <td>2023-01-05</td>\n",
       "      <td>Thursday</td>\n",
       "    </tr>\n",
       "  </tbody>\n",
       "</table>\n",
       "</div>"
      ],
      "text/plain": [
       "        Date    Weekday\n",
       "0 2023-01-01     Sunday\n",
       "1 2023-01-02     Monday\n",
       "2 2023-01-03    Tuesday\n",
       "3 2023-01-04  Wednesday\n",
       "4 2023-01-05   Thursday"
      ]
     },
     "execution_count": 95,
     "metadata": {},
     "output_type": "execute_result"
    }
   ],
   "source": [
    "df5"
   ]
  },
  {
   "cell_type": "markdown",
   "id": "ef035c5f-8868-40c7-849d-09219e9c20e7",
   "metadata": {
    "jp-MarkdownHeadingCollapsed": true,
    "tags": []
   },
   "source": [
    "### Q12. Given a Pandas DataFrame df with a column 'Date' that contains timestamps, write a Python function to select all rows where the date is between '2023-01-01' and '2023-01-31'."
   ]
  },
  {
   "cell_type": "code",
   "execution_count": 97,
   "id": "09b304f1-9b82-48a6-ba10-b5e5b1263c6d",
   "metadata": {},
   "outputs": [],
   "source": [
    "df6=pd.DataFrame({'Date':pd.date_range(start='2022-01-01',end='2024-12-31')})"
   ]
  },
  {
   "cell_type": "code",
   "execution_count": 102,
   "id": "a124c345-8d47-4719-8872-3db6df9d7c6c",
   "metadata": {},
   "outputs": [],
   "source": [
    "def datejk():\n",
    "    return df6[(df6['Date']>'2023-01-01') & (df6['Date']<'2023-01-31')]"
   ]
  },
  {
   "cell_type": "code",
   "execution_count": 103,
   "id": "758422bb-6414-4029-9af5-6497839cf50e",
   "metadata": {},
   "outputs": [
    {
     "data": {
      "text/html": [
       "<div>\n",
       "<style scoped>\n",
       "    .dataframe tbody tr th:only-of-type {\n",
       "        vertical-align: middle;\n",
       "    }\n",
       "\n",
       "    .dataframe tbody tr th {\n",
       "        vertical-align: top;\n",
       "    }\n",
       "\n",
       "    .dataframe thead th {\n",
       "        text-align: right;\n",
       "    }\n",
       "</style>\n",
       "<table border=\"1\" class=\"dataframe\">\n",
       "  <thead>\n",
       "    <tr style=\"text-align: right;\">\n",
       "      <th></th>\n",
       "      <th>Date</th>\n",
       "    </tr>\n",
       "  </thead>\n",
       "  <tbody>\n",
       "    <tr>\n",
       "      <th>366</th>\n",
       "      <td>2023-01-02</td>\n",
       "    </tr>\n",
       "    <tr>\n",
       "      <th>367</th>\n",
       "      <td>2023-01-03</td>\n",
       "    </tr>\n",
       "    <tr>\n",
       "      <th>368</th>\n",
       "      <td>2023-01-04</td>\n",
       "    </tr>\n",
       "    <tr>\n",
       "      <th>369</th>\n",
       "      <td>2023-01-05</td>\n",
       "    </tr>\n",
       "    <tr>\n",
       "      <th>370</th>\n",
       "      <td>2023-01-06</td>\n",
       "    </tr>\n",
       "    <tr>\n",
       "      <th>371</th>\n",
       "      <td>2023-01-07</td>\n",
       "    </tr>\n",
       "    <tr>\n",
       "      <th>372</th>\n",
       "      <td>2023-01-08</td>\n",
       "    </tr>\n",
       "    <tr>\n",
       "      <th>373</th>\n",
       "      <td>2023-01-09</td>\n",
       "    </tr>\n",
       "    <tr>\n",
       "      <th>374</th>\n",
       "      <td>2023-01-10</td>\n",
       "    </tr>\n",
       "    <tr>\n",
       "      <th>375</th>\n",
       "      <td>2023-01-11</td>\n",
       "    </tr>\n",
       "    <tr>\n",
       "      <th>376</th>\n",
       "      <td>2023-01-12</td>\n",
       "    </tr>\n",
       "    <tr>\n",
       "      <th>377</th>\n",
       "      <td>2023-01-13</td>\n",
       "    </tr>\n",
       "    <tr>\n",
       "      <th>378</th>\n",
       "      <td>2023-01-14</td>\n",
       "    </tr>\n",
       "    <tr>\n",
       "      <th>379</th>\n",
       "      <td>2023-01-15</td>\n",
       "    </tr>\n",
       "    <tr>\n",
       "      <th>380</th>\n",
       "      <td>2023-01-16</td>\n",
       "    </tr>\n",
       "    <tr>\n",
       "      <th>381</th>\n",
       "      <td>2023-01-17</td>\n",
       "    </tr>\n",
       "    <tr>\n",
       "      <th>382</th>\n",
       "      <td>2023-01-18</td>\n",
       "    </tr>\n",
       "    <tr>\n",
       "      <th>383</th>\n",
       "      <td>2023-01-19</td>\n",
       "    </tr>\n",
       "    <tr>\n",
       "      <th>384</th>\n",
       "      <td>2023-01-20</td>\n",
       "    </tr>\n",
       "    <tr>\n",
       "      <th>385</th>\n",
       "      <td>2023-01-21</td>\n",
       "    </tr>\n",
       "    <tr>\n",
       "      <th>386</th>\n",
       "      <td>2023-01-22</td>\n",
       "    </tr>\n",
       "    <tr>\n",
       "      <th>387</th>\n",
       "      <td>2023-01-23</td>\n",
       "    </tr>\n",
       "    <tr>\n",
       "      <th>388</th>\n",
       "      <td>2023-01-24</td>\n",
       "    </tr>\n",
       "    <tr>\n",
       "      <th>389</th>\n",
       "      <td>2023-01-25</td>\n",
       "    </tr>\n",
       "    <tr>\n",
       "      <th>390</th>\n",
       "      <td>2023-01-26</td>\n",
       "    </tr>\n",
       "    <tr>\n",
       "      <th>391</th>\n",
       "      <td>2023-01-27</td>\n",
       "    </tr>\n",
       "    <tr>\n",
       "      <th>392</th>\n",
       "      <td>2023-01-28</td>\n",
       "    </tr>\n",
       "    <tr>\n",
       "      <th>393</th>\n",
       "      <td>2023-01-29</td>\n",
       "    </tr>\n",
       "    <tr>\n",
       "      <th>394</th>\n",
       "      <td>2023-01-30</td>\n",
       "    </tr>\n",
       "  </tbody>\n",
       "</table>\n",
       "</div>"
      ],
      "text/plain": [
       "          Date\n",
       "366 2023-01-02\n",
       "367 2023-01-03\n",
       "368 2023-01-04\n",
       "369 2023-01-05\n",
       "370 2023-01-06\n",
       "371 2023-01-07\n",
       "372 2023-01-08\n",
       "373 2023-01-09\n",
       "374 2023-01-10\n",
       "375 2023-01-11\n",
       "376 2023-01-12\n",
       "377 2023-01-13\n",
       "378 2023-01-14\n",
       "379 2023-01-15\n",
       "380 2023-01-16\n",
       "381 2023-01-17\n",
       "382 2023-01-18\n",
       "383 2023-01-19\n",
       "384 2023-01-20\n",
       "385 2023-01-21\n",
       "386 2023-01-22\n",
       "387 2023-01-23\n",
       "388 2023-01-24\n",
       "389 2023-01-25\n",
       "390 2023-01-26\n",
       "391 2023-01-27\n",
       "392 2023-01-28\n",
       "393 2023-01-29\n",
       "394 2023-01-30"
      ]
     },
     "execution_count": 103,
     "metadata": {},
     "output_type": "execute_result"
    }
   ],
   "source": [
    "datejk()"
   ]
  },
  {
   "cell_type": "markdown",
   "id": "fdf8343d-cc21-4705-916c-2891f9557bcc",
   "metadata": {
    "jp-MarkdownHeadingCollapsed": true,
    "tags": []
   },
   "source": [
    "### Q13. To use the basic functions of pandas, what is the first and foremost necessary library that needs to be imported?"
   ]
  },
  {
   "cell_type": "markdown",
   "id": "ad5ec00f-a383-4dc8-ab05-95cc0fbecba5",
   "metadata": {},
   "source": [
    "The basic library to be imported is 'Pandas'"
   ]
  },
  {
   "cell_type": "code",
   "execution_count": null,
   "id": "93afdc87-fc45-4c55-a5be-73d5ed2061b6",
   "metadata": {},
   "outputs": [],
   "source": []
  }
 ],
 "metadata": {
  "kernelspec": {
   "display_name": "Python 3 (ipykernel)",
   "language": "python",
   "name": "python3"
  },
  "language_info": {
   "codemirror_mode": {
    "name": "ipython",
    "version": 3
   },
   "file_extension": ".py",
   "mimetype": "text/x-python",
   "name": "python",
   "nbconvert_exporter": "python",
   "pygments_lexer": "ipython3",
   "version": "3.10.8"
  }
 },
 "nbformat": 4,
 "nbformat_minor": 5
}
